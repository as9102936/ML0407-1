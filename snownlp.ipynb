{
 "cells": [
  {
   "cell_type": "code",
   "execution_count": null,
   "metadata": {
    "scrolled": true
   },
   "outputs": [
    {
     "name": "stdout",
     "output_type": "stream",
     "text": [
      "['感', '謝', '比', '價', '王', '又', '辦', '活', '動', ',', '這', '個', '價格', '真', '的', '比', '官', '網', '及', '其', '他', '網路', '還', '便宜']\n"
     ]
    }
   ],
   "source": [
    "from snownlp import SnowNLP\n",
    "text = '感謝比價王又辦活動,這個價格真的比官網及其他網路還便宜'\n",
    "# text = \"這東西超難用，馬的\"\n",
    "s = SnowNLP(text)\n",
    "print(s.words)"
   ]
  },
  {
   "cell_type": "code",
   "execution_count": 35,
   "metadata": {},
   "outputs": [
    {
     "name": "stdout",
     "output_type": "stream",
     "text": [
      "[('感', 'Ng'), ('謝', 'Tg'), ('比', 'v'), ('價', 'Tg'), ('王', 'nr'), ('又', 'd'), ('辦', 'd'), ('活', 'v'), ('動', 'Rg'), (',', 'Rg'), ('這', 'Rg'), ('個', 'Rg'), ('價格', 'Rg'), ('真', 'd'), ('的', 'u'), ('比', 'p'), ('官', 'n'), ('網', 'Bg'), ('及', 'c'), ('其', 'r'), ('他', 'r'), ('網路', 'Ag'), ('還', 'Bg'), ('便宜', 'a')]\n"
     ]
    }
   ],
   "source": [
    "tags = [x for x in s.tags]\n",
    "print(tags)"
   ]
  },
  {
   "cell_type": "code",
   "execution_count": 36,
   "metadata": {},
   "outputs": [
    {
     "data": {
      "text/plain": [
       "['官', '辦', '真']"
      ]
     },
     "execution_count": 36,
     "metadata": {},
     "output_type": "execute_result"
    }
   ],
   "source": [
    "s.keywords(3)"
   ]
  },
  {
   "cell_type": "code",
   "execution_count": 37,
   "metadata": {},
   "outputs": [
    {
     "name": "stdout",
     "output_type": "stream",
     "text": [
      "0.6960059686717506\n"
     ]
    }
   ],
   "source": [
    "print(s.sentiments)"
   ]
  },
  {
   "cell_type": "code",
   "execution_count": null,
   "metadata": {},
   "outputs": [],
   "source": []
  }
 ],
 "metadata": {
  "kernelspec": {
   "display_name": "Python 3",
   "language": "python",
   "name": "python3"
  },
  "language_info": {
   "codemirror_mode": {
    "name": "ipython",
    "version": 3
   },
   "file_extension": ".py",
   "mimetype": "text/x-python",
   "name": "python",
   "nbconvert_exporter": "python",
   "pygments_lexer": "ipython3",
   "version": "3.6.7"
  }
 },
 "nbformat": 4,
 "nbformat_minor": 1
}
